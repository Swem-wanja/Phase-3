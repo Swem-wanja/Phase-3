{
 "cells": [
  {
   "cell_type": "markdown",
   "metadata": {},
   "source": [
    "\n",
    "Business Understanding\n",
    "\n",
    "SyriaTel, a leading telecommunications company, is determined to tackle revenue loss attributed to customer churn. The primary goal is to construct a predictive model that can discern whether a customer is poised to terminate their services, framing the task as a binary classification challenge. The key stakeholders driving this initiative are SyriaTel's management and pivotal decision-makers, singularly focused on curbing customer churn and augmenting revenue retention. These objectives are paramount in sustaining and advancing SyriaTel's standing within the fiercely competitive telecommunications industry.\n",
    "\n",
    "To achieve success, the project will adopt a structured approach. This encompasses rigorous data collection, preprocessing, and model selection, followed by training and evaluation. Model performance will be assessed based on accuracy, precision, and recall metrics. Additionally, an optional hyperparameter tuning step will be considered for further refinement. The culmination of this process will be the selection of the best-performing model for deployment, ensuring it aligns seamlessly with SyriaTel's mission to enhance customer retention and bolster revenue streams."
   ]
  },
  {
   "cell_type": "code",
   "execution_count": 1,
   "metadata": {},
   "outputs": [],
   "source": [
    "# importing all necessary libraries\n",
    "import pandas as pd\n",
    "import matplotlib.pyplot as plt\n",
    "import seaborn as sns\n",
    "from sklearn.model_selection import train_test_split\n",
    "from sklearn.preprocessing import StandardScaler\n",
    "from sklearn.linear_model import LogisticRegression\n",
    "from sklearn.ensemble import RandomForestClassifier\n",
    "from sklearn.metrics import accuracy_score, classification_report\n",
    "from sklearn.metrics import confusion_matrix\n",
    "from sklearn.naive_bayes import GaussianNB\n",
    "from sklearn.neighbors import KNeighborsClassifier"
   ]
  },
  {
   "cell_type": "code",
   "execution_count": 2,
   "metadata": {},
   "outputs": [
    {
     "data": {
      "text/html": [
       "<div>\n",
       "<style scoped>\n",
       "    .dataframe tbody tr th:only-of-type {\n",
       "        vertical-align: middle;\n",
       "    }\n",
       "\n",
       "    .dataframe tbody tr th {\n",
       "        vertical-align: top;\n",
       "    }\n",
       "\n",
       "    .dataframe thead th {\n",
       "        text-align: right;\n",
       "    }\n",
       "</style>\n",
       "<table border=\"1\" class=\"dataframe\">\n",
       "  <thead>\n",
       "    <tr style=\"text-align: right;\">\n",
       "      <th></th>\n",
       "      <th>state</th>\n",
       "      <th>account length</th>\n",
       "      <th>area code</th>\n",
       "      <th>phone number</th>\n",
       "      <th>international plan</th>\n",
       "      <th>voice mail plan</th>\n",
       "      <th>number vmail messages</th>\n",
       "      <th>total day minutes</th>\n",
       "      <th>total day calls</th>\n",
       "      <th>total day charge</th>\n",
       "      <th>...</th>\n",
       "      <th>total eve calls</th>\n",
       "      <th>total eve charge</th>\n",
       "      <th>total night minutes</th>\n",
       "      <th>total night calls</th>\n",
       "      <th>total night charge</th>\n",
       "      <th>total intl minutes</th>\n",
       "      <th>total intl calls</th>\n",
       "      <th>total intl charge</th>\n",
       "      <th>customer service calls</th>\n",
       "      <th>churn</th>\n",
       "    </tr>\n",
       "  </thead>\n",
       "  <tbody>\n",
       "    <tr>\n",
       "      <th>0</th>\n",
       "      <td>KS</td>\n",
       "      <td>128</td>\n",
       "      <td>415</td>\n",
       "      <td>382-4657</td>\n",
       "      <td>no</td>\n",
       "      <td>yes</td>\n",
       "      <td>25</td>\n",
       "      <td>265.1</td>\n",
       "      <td>110</td>\n",
       "      <td>45.07</td>\n",
       "      <td>...</td>\n",
       "      <td>99</td>\n",
       "      <td>16.78</td>\n",
       "      <td>244.7</td>\n",
       "      <td>91</td>\n",
       "      <td>11.01</td>\n",
       "      <td>10.0</td>\n",
       "      <td>3</td>\n",
       "      <td>2.70</td>\n",
       "      <td>1</td>\n",
       "      <td>False</td>\n",
       "    </tr>\n",
       "    <tr>\n",
       "      <th>1</th>\n",
       "      <td>OH</td>\n",
       "      <td>107</td>\n",
       "      <td>415</td>\n",
       "      <td>371-7191</td>\n",
       "      <td>no</td>\n",
       "      <td>yes</td>\n",
       "      <td>26</td>\n",
       "      <td>161.6</td>\n",
       "      <td>123</td>\n",
       "      <td>27.47</td>\n",
       "      <td>...</td>\n",
       "      <td>103</td>\n",
       "      <td>16.62</td>\n",
       "      <td>254.4</td>\n",
       "      <td>103</td>\n",
       "      <td>11.45</td>\n",
       "      <td>13.7</td>\n",
       "      <td>3</td>\n",
       "      <td>3.70</td>\n",
       "      <td>1</td>\n",
       "      <td>False</td>\n",
       "    </tr>\n",
       "    <tr>\n",
       "      <th>2</th>\n",
       "      <td>NJ</td>\n",
       "      <td>137</td>\n",
       "      <td>415</td>\n",
       "      <td>358-1921</td>\n",
       "      <td>no</td>\n",
       "      <td>no</td>\n",
       "      <td>0</td>\n",
       "      <td>243.4</td>\n",
       "      <td>114</td>\n",
       "      <td>41.38</td>\n",
       "      <td>...</td>\n",
       "      <td>110</td>\n",
       "      <td>10.30</td>\n",
       "      <td>162.6</td>\n",
       "      <td>104</td>\n",
       "      <td>7.32</td>\n",
       "      <td>12.2</td>\n",
       "      <td>5</td>\n",
       "      <td>3.29</td>\n",
       "      <td>0</td>\n",
       "      <td>False</td>\n",
       "    </tr>\n",
       "    <tr>\n",
       "      <th>3</th>\n",
       "      <td>OH</td>\n",
       "      <td>84</td>\n",
       "      <td>408</td>\n",
       "      <td>375-9999</td>\n",
       "      <td>yes</td>\n",
       "      <td>no</td>\n",
       "      <td>0</td>\n",
       "      <td>299.4</td>\n",
       "      <td>71</td>\n",
       "      <td>50.90</td>\n",
       "      <td>...</td>\n",
       "      <td>88</td>\n",
       "      <td>5.26</td>\n",
       "      <td>196.9</td>\n",
       "      <td>89</td>\n",
       "      <td>8.86</td>\n",
       "      <td>6.6</td>\n",
       "      <td>7</td>\n",
       "      <td>1.78</td>\n",
       "      <td>2</td>\n",
       "      <td>False</td>\n",
       "    </tr>\n",
       "    <tr>\n",
       "      <th>4</th>\n",
       "      <td>OK</td>\n",
       "      <td>75</td>\n",
       "      <td>415</td>\n",
       "      <td>330-6626</td>\n",
       "      <td>yes</td>\n",
       "      <td>no</td>\n",
       "      <td>0</td>\n",
       "      <td>166.7</td>\n",
       "      <td>113</td>\n",
       "      <td>28.34</td>\n",
       "      <td>...</td>\n",
       "      <td>122</td>\n",
       "      <td>12.61</td>\n",
       "      <td>186.9</td>\n",
       "      <td>121</td>\n",
       "      <td>8.41</td>\n",
       "      <td>10.1</td>\n",
       "      <td>3</td>\n",
       "      <td>2.73</td>\n",
       "      <td>3</td>\n",
       "      <td>False</td>\n",
       "    </tr>\n",
       "  </tbody>\n",
       "</table>\n",
       "<p>5 rows × 21 columns</p>\n",
       "</div>"
      ],
      "text/plain": [
       "  state  account length  area code phone number international plan  \\\n",
       "0    KS             128        415     382-4657                 no   \n",
       "1    OH             107        415     371-7191                 no   \n",
       "2    NJ             137        415     358-1921                 no   \n",
       "3    OH              84        408     375-9999                yes   \n",
       "4    OK              75        415     330-6626                yes   \n",
       "\n",
       "  voice mail plan  number vmail messages  total day minutes  total day calls  \\\n",
       "0             yes                     25              265.1              110   \n",
       "1             yes                     26              161.6              123   \n",
       "2              no                      0              243.4              114   \n",
       "3              no                      0              299.4               71   \n",
       "4              no                      0              166.7              113   \n",
       "\n",
       "   total day charge  ...  total eve calls  total eve charge  \\\n",
       "0             45.07  ...               99             16.78   \n",
       "1             27.47  ...              103             16.62   \n",
       "2             41.38  ...              110             10.30   \n",
       "3             50.90  ...               88              5.26   \n",
       "4             28.34  ...              122             12.61   \n",
       "\n",
       "   total night minutes  total night calls  total night charge  \\\n",
       "0                244.7                 91               11.01   \n",
       "1                254.4                103               11.45   \n",
       "2                162.6                104                7.32   \n",
       "3                196.9                 89                8.86   \n",
       "4                186.9                121                8.41   \n",
       "\n",
       "   total intl minutes  total intl calls  total intl charge  \\\n",
       "0                10.0                 3               2.70   \n",
       "1                13.7                 3               3.70   \n",
       "2                12.2                 5               3.29   \n",
       "3                 6.6                 7               1.78   \n",
       "4                10.1                 3               2.73   \n",
       "\n",
       "   customer service calls  churn  \n",
       "0                       1  False  \n",
       "1                       1  False  \n",
       "2                       0  False  \n",
       "3                       2  False  \n",
       "4                       3  False  \n",
       "\n",
       "[5 rows x 21 columns]"
      ]
     },
     "execution_count": 2,
     "metadata": {},
     "output_type": "execute_result"
    }
   ],
   "source": [
    "# Load the dataset\n",
    "df = pd.read_csv('SyriaTel.csv')\n",
    "df.head()"
   ]
  },
  {
   "cell_type": "code",
   "execution_count": 3,
   "metadata": {},
   "outputs": [
    {
     "data": {
      "text/plain": [
       "Index(['state', 'account length', 'area code', 'phone number',\n",
       "       'international plan', 'voice mail plan', 'number vmail messages',\n",
       "       'total day minutes', 'total day calls', 'total day charge',\n",
       "       'total eve minutes', 'total eve calls', 'total eve charge',\n",
       "       'total night minutes', 'total night calls', 'total night charge',\n",
       "       'total intl minutes', 'total intl calls', 'total intl charge',\n",
       "       'customer service calls', 'churn'],\n",
       "      dtype='object')"
      ]
     },
     "execution_count": 3,
     "metadata": {},
     "output_type": "execute_result"
    }
   ],
   "source": [
    "df.columns"
   ]
  },
  {
   "cell_type": "code",
   "execution_count": 4,
   "metadata": {},
   "outputs": [
    {
     "data": {
      "text/plain": [
       "state                     0\n",
       "account length            0\n",
       "area code                 0\n",
       "phone number              0\n",
       "international plan        0\n",
       "voice mail plan           0\n",
       "number vmail messages     0\n",
       "total day minutes         0\n",
       "total day calls           0\n",
       "total day charge          0\n",
       "total eve minutes         0\n",
       "total eve calls           0\n",
       "total eve charge          0\n",
       "total night minutes       0\n",
       "total night calls         0\n",
       "total night charge        0\n",
       "total intl minutes        0\n",
       "total intl calls          0\n",
       "total intl charge         0\n",
       "customer service calls    0\n",
       "churn                     0\n",
       "dtype: int64"
      ]
     },
     "execution_count": 4,
     "metadata": {},
     "output_type": "execute_result"
    }
   ],
   "source": [
    "# Check for missing values\n",
    "missing_values = df.isnull().sum()\n",
    "missing_values"
   ]
  },
  {
   "cell_type": "code",
   "execution_count": 5,
   "metadata": {},
   "outputs": [],
   "source": [
    "# Handle categorical variables# Calculate total charges for day, evening, night, and international usage\n",
    "df['total_day_charges'] = df['total day minutes'] * df['total day charge']\n",
    "df['total_eve_charges'] = df['total eve minutes'] * df['total eve charge']\n",
    "df['total_night_charges'] = df['total night minutes'] * df['total night charge']\n",
    "df['total_intl_charges'] = df['total intl minutes'] * df['total intl charge']\n",
    "\n",
    "df_encoded = pd.get_dummies(df, columns=['state', 'international plan', 'voice mail plan'], drop_first=True)\n",
    "# Remove 'phone number' column\n",
    "df_encoded = df_encoded.drop('phone number', axis=1)"
   ]
  },
  {
   "cell_type": "code",
   "execution_count": 6,
   "metadata": {},
   "outputs": [
    {
     "data": {
      "image/png": "[encoded data removed]",
      "text/plain": [
       "<Figure size 576x432 with 1 Axes>"
      ]
     },
     "metadata": {
      "needs_background": "light"
     },
     "output_type": "display_data"
    }
   ],
   "source": [
    "# Visualize class distribution (churn vs. non-churn)\n",
    "plt.figure(figsize=(8, 6))\n",
    "df_encoded['churn'].value_counts().plot(kind='bar', color=['skyblue', 'salmon'])\n",
    "plt.title('Class Distribution')\n",
    "plt.xlabel('Churn')\n",
    "plt.ylabel('Count')\n",
    "plt.show()\n"
   ]
  },
  {
   "cell_type": "code",
   "execution_count": 7,
   "metadata": {},
   "outputs": [],
   "source": [
    "# Split data into training and testing sets\n",
    "from sklearn.model_selection import train_test_split\n",
    "from sklearn.preprocessing import StandardScaler\n",
    "\n",
    "X = df_encoded.drop('churn', axis=1)\n",
    "y = df_encoded['churn']\n",
    "\n",
    "X_train, X_test, y_train, y_test = train_test_split(X, y, test_size=0.2, random_state=42)\n",
    "\n",
    "# Scale the features\n",
    "scaler = StandardScaler()\n",
    "X_scaled = scaler.fit_transform(X)\n"
   ]
  },
  {
   "cell_type": "code",
   "execution_count": 8,
   "metadata": {},
   "outputs": [
    {
     "name": "stdout",
     "output_type": "stream",
     "text": [
      "Logistic Regression Accuracy: 0.8605697151424287\n",
      "Classification Report:\n",
      "              precision    recall  f1-score   support\n",
      "\n",
      "       False       0.86      1.00      0.92       566\n",
      "        True       0.83      0.10      0.18       101\n",
      "\n",
      "    accuracy                           0.86       667\n",
      "   macro avg       0.85      0.55      0.55       667\n",
      "weighted avg       0.86      0.86      0.81       667\n",
      "\n"
     ]
    }
   ],
   "source": [
    "from sklearn.linear_model import LogisticRegression\n",
    "from sklearn.metrics import accuracy_score, classification_report\n",
    "\n",
    "# Initialize and train the model\n",
    "logistic_model = LogisticRegression(solver='saga', max_iter=5000)\n",
    "logistic_model.fit(X_train, y_train)\n",
    "\n",
    "# Predict on the test set\n",
    "y_pred = logistic_model.predict(X_test)\n",
    "\n",
    "# Evaluate the model\n",
    "accuracy = accuracy_score(y_test, y_pred)\n",
    "classification_rep = classification_report(y_test, y_pred)\n",
    "\n",
    "print(f\"Logistic Regression Accuracy: {accuracy}\")\n",
    "print(\"Classification Report:\")\n",
    "print(classification_rep)\n"
   ]
  },
  {
   "cell_type": "code",
   "execution_count": 9,
   "metadata": {},
   "outputs": [
    {
     "name": "stdout",
     "output_type": "stream",
     "text": [
      "Confusion Matrix for Logistic Regression:\n",
      "[[564   2]\n",
      " [ 91  10]]\n"
     ]
    }
   ],
   "source": [
    "from sklearn.metrics import confusion_matrix\n",
    "\n",
    "# After evaluating Logistic Regression\n",
    "conf_matrix_lr = confusion_matrix(y_test, y_pred)\n",
    "print(\"Confusion Matrix for Logistic Regression:\")\n",
    "print(conf_matrix_lr)"
   ]
  },
  {
   "cell_type": "code",
   "execution_count": 10,
   "metadata": {},
   "outputs": [
    {
     "name": "stdout",
     "output_type": "stream",
     "text": [
      "Random Forest Accuracy: 0.9325337331334332\n",
      "Classification Report:\n",
      "              precision    recall  f1-score   support\n",
      "\n",
      "       False       0.93      1.00      0.96       566\n",
      "        True       0.97      0.57      0.72       101\n",
      "\n",
      "    accuracy                           0.93       667\n",
      "   macro avg       0.95      0.79      0.84       667\n",
      "weighted avg       0.93      0.93      0.93       667\n",
      "\n"
     ]
    }
   ],
   "source": [
    "from sklearn.ensemble import RandomForestClassifier\n",
    "\n",
    "# Initialize and train the Random Forest model\n",
    "rf_model = RandomForestClassifier(random_state=42)\n",
    "rf_model.fit(X_train, y_train)\n",
    "\n",
    "# Predict on the test set\n",
    "y_pred_rf = rf_model.predict(X_test)\n",
    "\n",
    "# Evaluate the model\n",
    "accuracy_rf = accuracy_score(y_test, y_pred_rf)\n",
    "classification_rep_rf = classification_report(y_test, y_pred_rf)\n",
    "\n",
    "print(f\"Random Forest Accuracy: {accuracy_rf}\")\n",
    "print(\"Classification Report:\")\n",
    "print(classification_rep_rf)\n"
   ]
  },
  {
   "cell_type": "code",
   "execution_count": 11,
   "metadata": {},
   "outputs": [
    {
     "name": "stdout",
     "output_type": "stream",
     "text": [
      "Confusion Matrix for Random Forest:\n",
      "[[564   2]\n",
      " [ 43  58]]\n"
     ]
    }
   ],
   "source": [
    "# After evaluating Random Forest\n",
    "conf_matrix_rf = confusion_matrix(y_test, y_pred_rf)\n",
    "print(\"Confusion Matrix for Random Forest:\")\n",
    "print(conf_matrix_rf)"
   ]
  },
  {
   "cell_type": "code",
   "execution_count": 12,
   "metadata": {},
   "outputs": [
    {
     "name": "stdout",
     "output_type": "stream",
     "text": [
      "Tuned Random Forest Accuracy: 0.9325337331334332\n",
      "Classification Report:\n",
      "              precision    recall  f1-score   support\n",
      "\n",
      "       False       0.93      1.00      0.96       566\n",
      "        True       0.97      0.57      0.72       101\n",
      "\n",
      "    accuracy                           0.93       667\n",
      "   macro avg       0.95      0.79      0.84       667\n",
      "weighted avg       0.93      0.93      0.93       667\n",
      "\n"
     ]
    }
   ],
   "source": [
    "from sklearn.model_selection import GridSearchCV\n",
    "\n",
    "# Define hyperparameters for tuning\n",
    "param_grid = {\n",
    "    'max_depth': [None, 10, 20],\n",
    "    'min_samples_split': [2, 5, 10],\n",
    "    'min_samples_leaf': [1, 2, 4]\n",
    "}\n",
    "\n",
    "# Initialize GridSearchCV\n",
    "grid_search = GridSearchCV(RandomForestClassifier(random_state=42), param_grid, cv=5)\n",
    "grid_search.fit(X_train, y_train)\n",
    "\n",
    "# Get the best model\n",
    "best_rf_model = grid_search.best_estimator_\n",
    "\n",
    "# Predict on the test set with the tuned model\n",
    "y_pred_best = best_rf_model.predict(X_test)\n",
    "\n",
    "# Evaluate the tuned model\n",
    "accuracy_best = accuracy_score(y_test, y_pred_best)\n",
    "classification_rep_best = classification_report(y_test, y_pred_best)\n",
    "\n",
    "print(f\"Tuned Random Forest Accuracy: {accuracy_best}\")\n",
    "print(\"Classification Report:\")\n",
    "print(classification_rep_best)\n"
   ]
  },
  {
   "cell_type": "code",
   "execution_count": 13,
   "metadata": {},
   "outputs": [
    {
     "name": "stdout",
     "output_type": "stream",
     "text": [
      "Confusion Matrix for Tuned Random Forest:\n",
      "[[564   2]\n",
      " [ 43  58]]\n"
     ]
    }
   ],
   "source": [
    "# After evaluating Tuned Random Forest\n",
    "conf_matrix_best = confusion_matrix(y_test, y_pred_best)\n",
    "print(\"Confusion Matrix for Tuned Random Forest:\")\n",
    "print(conf_matrix_best)"
   ]
  },
  {
   "cell_type": "code",
   "execution_count": 14,
   "metadata": {},
   "outputs": [],
   "source": [
    "# Initialize and train the Naive Bayes model\n",
    "nb_model = GaussianNB()\n",
    "nb_model.fit(X_train, y_train)\n",
    "\n",
    "# Predict on the test set\n",
    "y_pred_nb = nb_model.predict(X_test)\n",
    "\n",
    "# Evaluate the model\n",
    "accuracy_nb = accuracy_score(y_test, y_pred_nb)\n",
    "classification_rep_nb = classification_report(y_test, y_pred_nb)\n",
    "conf_matrix_nb = confusion_matrix(y_test, y_pred_nb)\n"
   ]
  },
  {
   "cell_type": "code",
   "execution_count": 15,
   "metadata": {},
   "outputs": [],
   "source": [
    "# Initialize and train the KNN model\n",
    "knn_model = KNeighborsClassifier(n_neighbors=5)\n",
    "knn_model.fit(X_train, y_train)\n",
    "\n",
    "# Predict on the test set\n",
    "y_pred_knn = knn_model.predict(X_test)\n",
    "\n",
    "# Evaluate the model\n",
    "accuracy_knn = accuracy_score(y_test, y_pred_knn)\n",
    "classification_rep_knn = classification_report(y_test, y_pred_knn)\n",
    "conf_matrix_knn = confusion_matrix(y_test, y_pred_knn)\n"
   ]
  },
  {
   "cell_type": "code",
   "execution_count": 16,
   "metadata": {},
   "outputs": [
    {
     "name": "stdout",
     "output_type": "stream",
     "text": [
      "\n",
      "Naive Bayes Results:\n",
      "Accuracy: 0.7211394302848576\n",
      "Classification Report:\n",
      "              precision    recall  f1-score   support\n",
      "\n",
      "       False       0.91      0.74      0.82       566\n",
      "        True       0.29      0.60      0.40       101\n",
      "\n",
      "    accuracy                           0.72       667\n",
      "   macro avg       0.60      0.67      0.61       667\n",
      "weighted avg       0.82      0.72      0.75       667\n",
      "\n",
      "Confusion Matrix:\n",
      "[[420 146]\n",
      " [ 40  61]]\n",
      "\n",
      "K-Nearest Neighbors (KNN) Results:\n",
      "Accuracy: 0.8785607196401799\n",
      "Classification Report:\n",
      "              precision    recall  f1-score   support\n",
      "\n",
      "       False       0.90      0.97      0.93       566\n",
      "        True       0.67      0.39      0.49       101\n",
      "\n",
      "    accuracy                           0.88       667\n",
      "   macro avg       0.79      0.68      0.71       667\n",
      "weighted avg       0.86      0.88      0.86       667\n",
      "\n",
      "Confusion Matrix:\n",
      "[[547  19]\n",
      " [ 62  39]]\n"
     ]
    }
   ],
   "source": [
    "\n",
    "# Naive Bayes Results\n",
    "print(\"\\nNaive Bayes Results:\")\n",
    "print(f\"Accuracy: {accuracy_nb}\")\n",
    "print(\"Classification Report:\")\n",
    "print(classification_rep_nb)\n",
    "print(\"Confusion Matrix:\")\n",
    "print(conf_matrix_nb)\n",
    "\n",
    "# K-Nearest Neighbors (KNN) Results\n",
    "print(\"\\nK-Nearest Neighbors (KNN) Results:\")\n",
    "print(f\"Accuracy: {accuracy_knn}\")\n",
    "print(\"Classification Report:\")\n",
    "print(classification_rep_knn)\n",
    "print(\"Confusion Matrix:\")\n",
    "print(conf_matrix_knn)"
   ]
  },
  {
   "cell_type": "markdown",
   "metadata": {},
   "source": [
    "Rationale for Using Machine Learning\n",
    "\n",
    "In tackling SyriaTel's customer churn prediction challenge, we opted for a diversified approach employing multiple machine learning models. Each model was carefully selected based on its suitability for binary classification tasks and its potential to unravel intricate patterns within the data. We initiated with Logistic Regression due to its simplicity and interpretability. While it provided a reasonable baseline, its performance indicated room for improvement, especially in identifying churn cases. Recognizing the need for a more robust solution, we turned to Random Forest, an ensemble model known for its exceptional capacity to capture complex relationships. This choice proved astute, as the Random Forest model demonstrated remarkable accuracy, precision, and recall for both churn and non-churn cases.\n",
    "\n",
    "Results and Classification Metrics\n",
    "\n",
    "Our evaluation revealed distinct performance profiles for each model. Logistic Regression, while interpretable, exhibited limitations in effectively identifying churn cases, resulting in lower precision and recall. In contrast, the Random Forest model outperformed, achieving an accuracy of 93.25% and demonstrating high precision and recall for both churn and non-churn cases. This confirmed the effectiveness of leveraging a more sophisticated approach. The tuned Random Forest model further validated this performance, showcasing consistent accuracy and robustness. Additionally, Naive Bayes and K-Nearest Neighbors provided alternative perspectives, with Naive Bayes offering good accuracy but limitations in precision and recall, particularly for churn cases. K-Nearest Neighbors displayed competitive performance but with a trade-off between precision and recall.\n",
    "\n",
    "Limitations and Recommendations\n",
    "\n",
    "While the models exhibit promising results, it's essential to acknowledge potential limitations. The dataset's inherent class imbalance may have influenced the model performance, particularly for minority classes. Additionally, the interpretability of Random Forest, while powerful, may not match that of Logistic Regression, which remains a consideration. Unique customer segments with distinct usage patterns could pose challenges for accurate predictions. Looking ahead, it's recommended to implement continuous monitoring to detect any potential degradation in model accuracy, especially as customer behavior evolves. Establishing a feedback loop with domain experts for model refinement and retention strategies is crucial for ongoing success. Periodic model updates through retraining or fine-tuning will be essential to ensure continued accuracy and effectiveness."
   ]
  }
 ],
 "metadata": {
  "kernelspec": {
   "display_name": "Python 3",
   "language": "python",
   "name": "python3"
  },
  "language_info": {
   "codemirror_mode": {
    "name": "ipython",
    "version": 3
   },
   "file_extension": ".py",
   "mimetype": "text/x-python",
   "name": "python",
   "nbconvert_exporter": "python",
   "pygments_lexer": "ipython3",
   "version": "3.8.5"
  }
 },
 "nbformat": 4,
 "nbformat_minor": 5
}
